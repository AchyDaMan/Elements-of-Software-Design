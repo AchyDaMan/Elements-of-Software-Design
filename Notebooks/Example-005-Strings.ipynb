{
 "cells": [
  {
   "cell_type": "markdown",
   "metadata": {},
   "source": [
    "# Strings in Python\n",
    "\n",
    "A String is a sequence of characters.\n",
    "\n",
    "In older versions of Python a character was represented by a 7-bit ASCII code. The 7 bits allowed us to represent 128 unique characters. This was sufficient to represent all the upper and lower case letters of the alphabet of English, all the punctuation marks, and digits. There were even enough symbols left over to represent control characters that could represent end of line, or spaces and tabs. \n",
    "\n",
    "The 7 bits were padded to the left by a single 0 bit and a character came to be represented by a byte. Since computer programming is an international activity, the letters in the alphabet of other languages had to be included. In the newer versions of Python, characters are represented by 16 bit Unicode. \n",
    "\n",
    "ASCII forms a subset of Unicode.\n",
    "\n",
    "In current python3 version strings can be Unicode UTF-8, UTF-16 or UTF-32 \n",
    "\n"
   ]
  },
  {
   "cell_type": "code",
   "execution_count": 1,
   "metadata": {},
   "outputs": [],
   "source": [
    "# A string literal is defined within single or double quotes.\n",
    "\n",
    "firstName = 'Alan'\n",
    "lastName = \"Turing\""
   ]
  },
  {
   "cell_type": "markdown",
   "metadata": {},
   "source": [
    "## String Indexing\n",
    "\n",
    "You can think of a string as a sequence of characters. \n",
    "\n",
    "* The length of a string is given by the operator len. The length gives the number of characters in a string including blank spaces. \n",
    "* The index of a character in a string gives its position in the string where the first character has an index of 0 and the last character has an index of (length - 1). \n",
    "* Python allows for negative indexing. The index -1 represents the last character, and the index -2 represents the last but one character, and so on. You can use a for loop to iterate through the string one character at a time.\n"
   ]
  },
  {
   "cell_type": "code",
   "execution_count": 2,
   "metadata": {},
   "outputs": [
    {
     "name": "stdout",
     "output_type": "stream",
     "text": [
      "m_str[8] is:  r\n",
      "m_str[-5] is:  W\n",
      "len(m_str) is 11\n",
      "------------\n",
      "H\n",
      "e\n",
      "l\n",
      "l\n",
      "o\n",
      " \n",
      "W\n",
      "o\n",
      "r\n",
      "l\n",
      "d\n"
     ]
    }
   ],
   "source": [
    "m_str = \"Hello World\"\n",
    "\n",
    "# index 8 is \n",
    "print(\"m_str[8] is: \", m_str[8])\n",
    "\n",
    "# index -5 is \n",
    "print(\"m_str[-5] is: \", m_str[-5])\n",
    "\n",
    "# lenght of this string is:\n",
    "print(\"len(m_str) is\", len(m_str))\n",
    "\n",
    "print(\"------------\")\n",
    "\n",
    "for ch in m_str:\n",
    "    print(ch)"
   ]
  },
  {
   "cell_type": "markdown",
   "metadata": {},
   "source": [
    "## Concatenation and Repetition\n",
    "The + symbol is the concatenation operator. And the * symbol is the repetition operator.\n",
    "\n"
   ]
  },
  {
   "cell_type": "code",
   "execution_count": 3,
   "metadata": {},
   "outputs": [
    {
     "name": "stdout",
     "output_type": "stream",
     "text": [
      "spamalot\n"
     ]
    }
   ],
   "source": [
    "# concatane strings by using simple + operator \n",
    "\n",
    "m_str = \"spam\" + \"a\" + \"lot\"\n",
    "print (m_str)\n",
    "\n"
   ]
  },
  {
   "cell_type": "code",
   "execution_count": 4,
   "metadata": {},
   "outputs": [
    {
     "name": "stdout",
     "output_type": "stream",
     "text": [
      "spamspamalotlotlot\n"
     ]
    }
   ],
   "source": [
    "# multiplication operator repeates the sting\n",
    "\n",
    "m_str = 2 * \"spam\" + \"a\" + \"lot\" * 3\n",
    "print (m_str)"
   ]
  },
  {
   "cell_type": "markdown",
   "metadata": {},
   "source": [
    "# String Slicing\n",
    "You can slice a string into substrings. Python provides an easy way to slice strings. You must provide the starting index and the ending index, like so:\n",
    "\n"
   ]
  },
  {
   "cell_type": "code",
   "execution_count": 5,
   "metadata": {},
   "outputs": [
    {
     "name": "stdout",
     "output_type": "stream",
     "text": [
      "To be or not to be\n"
     ]
    },
    {
     "data": {
      "text/plain": [
       "' be or '"
      ]
     },
     "execution_count": 5,
     "metadata": {},
     "output_type": "execute_result"
    }
   ],
   "source": [
    "m_str = \"To be or not to be\"\n",
    "print(m_str)\n",
    "\n",
    "start = 2\n",
    "end = 9\n",
    "subStr = m_str[start:end]\n",
    "\n",
    "subStr"
   ]
  },
  {
   "cell_type": "markdown",
   "metadata": {},
   "source": [
    "## String Library\n",
    "\n",
    "Python has an extensive number of string functions that are stored in a string library. \n",
    "\n",
    "To use these functions you do not have to include this library explicitly. \n",
    "\n",
    "The main documentation manual for string library is here \n",
    "\n",
    "https://docs.python.org/3.9/library/stdtypes.html#text-sequence-type-str\n"
   ]
  },
  {
   "cell_type": "markdown",
   "metadata": {},
   "source": [
    "\n",
    "<table border = \"1\" width = \"75%\">\n",
    "<tr><th> Function </th><th> Meaning </th></tr>\n",
    "<tr>\n",
    "<td>capitalize()</td>\n",
    "<td>Returns a copy of the string with only its first character capitalized.</td>\n",
    "</tr>\n",
    "<tr>\n",
    "<td>center (width) </td>\n",
    "<td> Returns a copy of the string centered in another string of length \n",
    "<i>width</i>. </td>\n",
    "</tr>\n",
    "<tr>\n",
    "<td> count (sub) </td>\n",
    "<td> Returns the number of occurrences of substring <i>sub</i>.</td>\n",
    "</tr>\n",
    "<tr>\n",
    "<td> endswith (suffix) </td>\n",
    "<td> Returns <i>True</i> if the string ends with the specified <i>suffix</i>\n",
    "and <i>False</i> otherwise. </td>\n",
    "</tr>\n",
    "<tr>\n",
    "<td> find (sub) </td>\n",
    "<td> Returns the lowest index in the string where the substring <i>sub</i>\n",
    "is found and -1 if it is not found. </td>\n",
    "</tr>\n",
    "<tr>\n",
    "<td> isalnum () </td>\n",
    "<td> Returns <i>True</i> if all the characters are alphanumeric and there\n",
    "is at least one character, and <i>False</i> otherwise. </td>\n",
    "</tr>\n",
    "<tr>\n",
    "<td> isalpha () </td>\n",
    "<td> Returns <i>True</i> if all the characters in the string are alphabetic\n",
    "and there is at least one character, and <i>False</i> otherwise. </td>\n",
    "</tr>\n",
    "<tr>\n",
    "<td> isdigit () </td>\n",
    "<td> Returns <i>True</i> if all the characters in the string are digits\n",
    "and there is at least one character, and <i>False</i> otherwise. </td>\n",
    "</tr>\n",
    "<tr>\n",
    "<td> islower () </td>\n",
    "<td> Returns <i>True</i> if all alphabetic charactes are in lower case,\n",
    "and there is at least one character, and <i>False</i> otherwise. </td>\n",
    "</tr>\n",
    "<tr>\n",
    "<td> isspace () </td>\n",
    "<td> Returns <i>True</i> if there are only white space characters, and there\n",
    "is at least one character, and <i>False</i> otherwise. </td>\n",
    "</tr>\n",
    "<tr>\n",
    "<td> isupper () </td>\n",
    "<td> Returns <i>True</i> if all alphabetic characters are in upper case\n",
    "and there is at least one character, and <i>False</i> otherwise. </td>\n",
    "</tr>\n",
    "<tr>\n",
    "<td> join (seq) </td>\n",
    "<td> Returns a string that is a concatenation of elements of the sequence\n",
    "<i>seq</i>. </td>\n",
    "</tr>\n",
    "<tr>\n",
    "<td> ljust (width) </td>\n",
    "<td> Returns a string of length <i>width</i> with the original string\n",
    "left justified in it. </td>\n",
    "</tr>\n",
    "<tr>\n",
    "<td> lower () </td>\n",
    "<td> Returns a copy of the string converted to lowercase. </td>\n",
    "</tr>\n",
    "<tr>\n",
    "<td> lstrip () </td>\n",
    "<td> Returns a string with leading whitepace characters removed. </td>\n",
    "</tr>\n",
    "<tr>\n",
    "<td> replace (old, new) </td>\n",
    "<td> Returns a copy of the string with all occurences of the substring\n",
    "<i>old</i> replaced with <i>new</i>. </td>\n",
    "</tr>\n",
    "<tr>\n",
    "<td> rfind (sub) </td>\n",
    "<td> Returns the highest index in the string where substring <i>sub</i>\n",
    "is found and -1 if the substring is not found. </td>\n",
    "</tr>\n",
    "<tr>\n",
    "<td> split ([sep]) </td>\n",
    "<td> Returns a list of substrings of the string using the <i>sep</i>\n",
    "as the delimiter. </td>\n",
    "</tr>\n",
    "<tr>\n",
    "<td> startswith (prefix) </td>\n",
    "<td> Returns <i>True</i> if the string starts with the <i>prefix</i> and\n",
    "<i>False</i> otherwise. </td>\n",
    "</tr>\n",
    "<tr>\n",
    "<td> strip () </td>\n",
    "<td> Returns a copy of the string with the leading and trailing characters\n",
    "removed. </td>\n",
    "</tr>\n",
    "<tr>\n",
    "<td> swapcase () </td>\n",
    "<td> Returns a copy of the string with uppercase characters converted to\n",
    "lower case and vice versa. </td>\n",
    "</tr>\n",
    "<tr>\n",
    "<td> upper () </td>\n",
    "<td> Returns a copy of the string converted to uppercase. </td>\n",
    "</tr>\n",
    "</table>\n"
   ]
  },
  {
   "cell_type": "markdown",
   "metadata": {},
   "source": [
    "# String Related Functions\n",
    "\n",
    "<p>\n",
    "Strings are <i>immutable</i>, i.e. once created they cannot be changed.\n",
    "    \n",
    "Even though you have functions like <i>replace()</i> that give the\n",
    "appearance of changing characters in a string, the reality is that the\n",
    "original string is untouched and new copy with the replacements is \n",
    "returned. If the orginal variable is assigned the address of the new \n",
    "string, then the space in memory occupied by the old string is reclaimed \n",
    "by the garbage collector.\n",
    "<p>\n",
    "\n",
    "<p>\n",
    "Internally, the characters in a string are represented in binary code.\n",
    "Python allows you to get the numerical value of that binary code using the\n",
    "function <i>ord()</i>. It also allows you to convert a valid numerical\n",
    "value to a character using the <i>chr()</i> function."
   ]
  },
  {
   "cell_type": "code",
   "execution_count": 6,
   "metadata": {},
   "outputs": [
    {
     "name": "stdout",
     "output_type": "stream",
     "text": [
      "53\n",
      "K\n"
     ]
    }
   ],
   "source": [
    "print(ord ('5'))\n",
    "print(chr (75))"
   ]
  },
  {
   "cell_type": "code",
   "execution_count": 7,
   "metadata": {},
   "outputs": [
    {
     "name": "stdout",
     "output_type": "stream",
     "text": [
      "Help on built-in function ord in module builtins:\n",
      "\n",
      "ord(c, /)\n",
      "    Return the Unicode code point for a one-character string.\n",
      "\n"
     ]
    }
   ],
   "source": [
    "help(ord)"
   ]
  },
  {
   "cell_type": "code",
   "execution_count": 8,
   "metadata": {},
   "outputs": [
    {
     "name": "stdout",
     "output_type": "stream",
     "text": [
      "Help on built-in function chr in module builtins:\n",
      "\n",
      "chr(i, /)\n",
      "    Return a Unicode string of one character with ordinal i; 0 <= i <= 0x10ffff.\n",
      "\n"
     ]
    }
   ],
   "source": [
    "help(chr)"
   ]
  },
  {
   "cell_type": "markdown",
   "metadata": {},
   "source": [
    "You can also force Python to evaluate a string as if it were an expression by using the eval() function. \n",
    "\n",
    "For example, \"2 + 3\" is a string. However, doing eval (\"2 + 3\") will return the result of the expression 2 + 3, i.e. 5. \n",
    "\n",
    "Similarly you can convert an expression into a string by using the str() function. To convert the literal floating point number 3.14 into a string you do str (3.14)."
   ]
  },
  {
   "cell_type": "code",
   "execution_count": 9,
   "metadata": {},
   "outputs": [
    {
     "data": {
      "text/plain": [
       "5"
      ]
     },
     "execution_count": 9,
     "metadata": {},
     "output_type": "execute_result"
    }
   ],
   "source": [
    "eval(\"2 + 3\")"
   ]
  },
  {
   "cell_type": "code",
   "execution_count": 12,
   "metadata": {},
   "outputs": [
    {
     "name": "stdout",
     "output_type": "stream",
     "text": [
      "3.14\n"
     ]
    },
    {
     "data": {
      "text/plain": [
       "'3.14'"
      ]
     },
     "execution_count": 12,
     "metadata": {},
     "output_type": "execute_result"
    }
   ],
   "source": [
    "a = 3.14\n",
    "\n",
    "print(a)\n",
    "\n",
    "# str() is a build-in function \n",
    "b=str(a)\n",
    "\n",
    "b"
   ]
  },
  {
   "cell_type": "code",
   "execution_count": null,
   "metadata": {},
   "outputs": [],
   "source": []
  }
 ],
 "metadata": {
  "kernelspec": {
   "display_name": "Python 3",
   "language": "python",
   "name": "python3"
  },
  "language_info": {
   "codemirror_mode": {
    "name": "ipython",
    "version": 3
   },
   "file_extension": ".py",
   "mimetype": "text/x-python",
   "name": "python",
   "nbconvert_exporter": "python",
   "pygments_lexer": "ipython3",
   "version": "3.8.3"
  }
 },
 "nbformat": 4,
 "nbformat_minor": 4
}
