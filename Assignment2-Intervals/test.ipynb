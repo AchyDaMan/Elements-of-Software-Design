{
 "cells": [
  {
   "cell_type": "code",
   "execution_count": 18,
   "metadata": {},
   "outputs": [],
   "source": [
    "tuples_list = []\n",
    "with open('intervals.in', 'r') as file:\n",
    "    for line in file:\n",
    "        tuples_list.append(line.strip())\n",
    "tlist = []\n",
    "tuples_list.pop(0)\n",
    "for m_tuple in tuples_list:\n",
    "        tup = m_tuple.split()\n",
    "        tlist.append(tuple((int(tup[0]), int(tup[1]))))"
   ]
  },
  {
   "cell_type": "markdown",
   "metadata": {},
   "source": [
    "tlist has tuple list"
   ]
  },
  {
   "cell_type": "code",
   "execution_count": 19,
   "metadata": {},
   "outputs": [
    {
     "name": "stdout",
     "output_type": "stream",
     "text": [
      "[(14, 17), (-8, -5), (26, 29), (-20, -15), (12, 15), (2, 3), (-10, -7), (25, 30), (2, 4), (-21, -16), (13, 18), (22, 27), (-6, -3), (3, 6), (-25, -14)]\n",
      "[(-25, -14), (-21, -16), (-20, -15), (-10, -7), (-8, -5), (-6, -3), (2, 3), (2, 4), (3, 6), (12, 15), (13, 18), (14, 17), (22, 27), (25, 30), (26, 29)]\n"
     ]
    }
   ],
   "source": [
    "print(tlist)\n",
    "tlist.sort()\n",
    "print(tlist)"
   ]
  },
  {
   "cell_type": "code",
   "execution_count": 20,
   "metadata": {},
   "outputs": [
    {
     "name": "stdout",
     "output_type": "stream",
     "text": [
      "-14 -21\n"
     ]
    }
   ],
   "source": [
    "print(tlist[0][1], tlist[1][0])"
   ]
  },
  {
   "cell_type": "code",
   "execution_count": 25,
   "metadata": {},
   "outputs": [
    {
     "name": "stdout",
     "output_type": "stream",
     "text": [
      "-25 -14 -21 -16 True\n",
      "-21 -16 -20 -15 True\n",
      "-20 -15 -10 -7 False\n",
      "-10 -7 -8 -5 True\n",
      "-8 -5 -6 -3 True\n",
      "-6 -3 2 3 False\n",
      "2 3 2 4 True\n",
      "2 4 3 6 True\n",
      "3 6 12 15 False\n",
      "12 15 13 18 True\n",
      "13 18 14 17 True\n",
      "14 17 22 27 False\n",
      "22 27 25 30 True\n",
      "25 30 26 29 True\n"
     ]
    }
   ],
   "source": [
    "i = 1\n",
    "while i < len(tlist):\n",
    "    print(tlist[i-1][0], tlist[i-1][1], tlist[i][0], tlist[i][1], tlist[i-1][1] >= tlist[i][0])\n",
    "    i+=1"
   ]
  },
  {
   "cell_type": "code",
   "execution_count": 26,
   "metadata": {},
   "outputs": [
    {
     "name": "stdout",
     "output_type": "stream",
     "text": [
      "(-25, -14) was created, and (-21, -16) will be dropped\n",
      "(-25, -14) was created, and (-20, -15) will be dropped\n",
      "(-10, -5) was created, and (-8, -5) will be dropped\n",
      "(-10, -3) was created, and (-6, -3) will be dropped\n",
      "(2, 4) was created, and (2, 4) will be dropped\n",
      "(2, 6) was created, and (3, 6) will be dropped\n",
      "(12, 18) was created, and (13, 18) will be dropped\n",
      "(12, 18) was created, and (14, 17) will be dropped\n",
      "(22, 30) was created, and (25, 30) will be dropped\n",
      "(22, 30) was created, and (26, 29) will be dropped\n"
     ]
    }
   ],
   "source": [
    "i = 1\n",
    "while i < len(tlist):\n",
    "    # if the upper boundary of the left interval is bigger than the left boundary of the right interval they overlap\n",
    "    if tlist[i-1][1] >= tlist[i][0]:\n",
    "        # find which one is the smallest\n",
    "        minimum = min(tlist[i-1][0], tlist[i][0])\n",
    "        maximum = max(tlist[i-1][1], tlist[i][1])\n",
    "        # add merged tuple to i-1, pop out i to get new i\n",
    "        tlist[i-1] = tuple((minimum, maximum))\n",
    "        print(tlist[i-1], 'was created, and', tlist[i], 'will be dropped')\n",
    "        tlist.pop(i)\n",
    "    else:\n",
    "        i += 1"
   ]
  },
  {
   "cell_type": "code",
   "execution_count": 30,
   "metadata": {},
   "outputs": [
    {
     "data": {
      "text/plain": [
       "[(-25, -14), (-10, -3), (2, 6), (12, 18), (22, 30)]"
      ]
     },
     "execution_count": 30,
     "metadata": {},
     "output_type": "execute_result"
    }
   ],
   "source": [
    "tlist"
   ]
  },
  {
   "cell_type": "code",
   "execution_count": 39,
   "metadata": {},
   "outputs": [
    {
     "data": {
      "text/plain": [
       "[(2, 6), (12, 18), (-10, -3), (22, 30), (-25, -14)]"
      ]
     },
     "execution_count": 39,
     "metadata": {},
     "output_type": "execute_result"
    }
   ],
   "source": [
    "interval_sizes = []\n",
    "\n",
    "for tup in tlist:\n",
    "    interval_sizes.append(tup[1]-tup[0])\n",
    "\n",
    "sorted_intervals = [tupl for _, tupl in sorted(zip(interval_sizes, tlist))]\n",
    "sorted_intervals"
   ]
  }
 ],
 "metadata": {
  "kernelspec": {
   "display_name": "Python 3",
   "language": "python",
   "name": "python3"
  },
  "language_info": {
   "codemirror_mode": {
    "name": "ipython",
    "version": 3
   },
   "file_extension": ".py",
   "mimetype": "text/x-python",
   "name": "python",
   "nbconvert_exporter": "python",
   "pygments_lexer": "ipython3",
   "version": "3.12.1"
  }
 },
 "nbformat": 4,
 "nbformat_minor": 2
}
